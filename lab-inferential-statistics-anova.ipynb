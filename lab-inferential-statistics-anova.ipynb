{
 "cells": [
  {
   "cell_type": "markdown",
   "id": "f47a626a-d58a-4b48-bdbf-218e70c3327a",
   "metadata": {},
   "source": [
    "## Lab | Inferential statistics - ANOVA\n",
    "\n",
    "Note: The following lab is divided in 2 sections which represent activities 3 and 4.\n",
    "\n",
    "## Part 1\n",
    "\n",
    "In this activity, we will look at another example. Your task is to understand the problem and write down all the steps to set up ANOVA. After the next lesson, we will ask you to solve this problem using Python. Here are the steps that you would need to work on:\n",
    "    - Null hypothesis\n",
    "    - Alternate hypothesis\n",
    "    - Level of significance\n",
    "    - Test statistic\n",
    "    - P-value\n",
    "    - F table\n",
    "\n",
    "### Context\n",
    "\n",
    "Suppose you are working as an analyst in a microprocessor chip manufacturing plant. You have been given the task of analyzing a plasma etching process with respect to changing Power (in Watts) of the plasma beam. Data was collected and provided to you to conduct statistical analysis and check if changing the power of the plasma beam has any effect on the etching rate by the machine. You will conduct ANOVA and check if there is any difference in the mean etching rate for different levels of power. You can find the data `anova_lab_data.xlsx` file in the `files_for_lab` folder  \n",
    "\n",
    "- State the null hypothesis\n",
    "- State the alternate hypothesis\n",
    "- What is the significance level\n",
    "- What are the degrees of freedom of model, error terms, and total DoF\n",
    "\n",
    "Data was collected randomly and provided to you in the table as shown: [link to the image - Data](https://education-team-2020.s3-eu-west-1.amazonaws.com/data-analytics/7.05/7.05-lab_data.png)\n",
    "\n",
    "\n",
    "## Part 2\n",
    "\n",
    "- In this section, use Python to conduct ANOVA.\n",
    "- What conclusions can you draw from the experiment and why?"
   ]
  },
  {
   "cell_type": "code",
   "execution_count": 2,
   "id": "7dde443c-4999-4770-9350-2e86b29cb55c",
   "metadata": {},
   "outputs": [],
   "source": [
    "import pandas as pd\n",
    "import numpy as np\n",
    "import scipy.stats as st\n",
    "import matplotlib.pyplot as plt\n",
    "import seaborn as sns"
   ]
  },
  {
   "cell_type": "code",
   "execution_count": 3,
   "id": "2fb2db7c-f55f-4ace-b20e-f1bb69b94f17",
   "metadata": {},
   "outputs": [
    {
     "data": {
      "text/html": [
       "<div>\n",
       "<style scoped>\n",
       "    .dataframe tbody tr th:only-of-type {\n",
       "        vertical-align: middle;\n",
       "    }\n",
       "\n",
       "    .dataframe tbody tr th {\n",
       "        vertical-align: top;\n",
       "    }\n",
       "\n",
       "    .dataframe thead th {\n",
       "        text-align: right;\n",
       "    }\n",
       "</style>\n",
       "<table border=\"1\" class=\"dataframe\">\n",
       "  <thead>\n",
       "    <tr style=\"text-align: right;\">\n",
       "      <th></th>\n",
       "      <th>Power</th>\n",
       "      <th>Etching Rate</th>\n",
       "    </tr>\n",
       "  </thead>\n",
       "  <tbody>\n",
       "    <tr>\n",
       "      <th>0</th>\n",
       "      <td>160 W</td>\n",
       "      <td>5.43</td>\n",
       "    </tr>\n",
       "    <tr>\n",
       "      <th>1</th>\n",
       "      <td>180 W</td>\n",
       "      <td>6.24</td>\n",
       "    </tr>\n",
       "    <tr>\n",
       "      <th>2</th>\n",
       "      <td>200 W</td>\n",
       "      <td>8.79</td>\n",
       "    </tr>\n",
       "    <tr>\n",
       "      <th>3</th>\n",
       "      <td>160 W</td>\n",
       "      <td>5.71</td>\n",
       "    </tr>\n",
       "    <tr>\n",
       "      <th>4</th>\n",
       "      <td>180 W</td>\n",
       "      <td>6.71</td>\n",
       "    </tr>\n",
       "    <tr>\n",
       "      <th>5</th>\n",
       "      <td>200 W</td>\n",
       "      <td>9.20</td>\n",
       "    </tr>\n",
       "    <tr>\n",
       "      <th>6</th>\n",
       "      <td>160 W</td>\n",
       "      <td>6.22</td>\n",
       "    </tr>\n",
       "    <tr>\n",
       "      <th>7</th>\n",
       "      <td>180 W</td>\n",
       "      <td>5.98</td>\n",
       "    </tr>\n",
       "    <tr>\n",
       "      <th>8</th>\n",
       "      <td>200 W</td>\n",
       "      <td>7.90</td>\n",
       "    </tr>\n",
       "    <tr>\n",
       "      <th>9</th>\n",
       "      <td>160 W</td>\n",
       "      <td>6.01</td>\n",
       "    </tr>\n",
       "    <tr>\n",
       "      <th>10</th>\n",
       "      <td>180 W</td>\n",
       "      <td>5.66</td>\n",
       "    </tr>\n",
       "    <tr>\n",
       "      <th>11</th>\n",
       "      <td>200 W</td>\n",
       "      <td>8.15</td>\n",
       "    </tr>\n",
       "    <tr>\n",
       "      <th>12</th>\n",
       "      <td>160 W</td>\n",
       "      <td>5.59</td>\n",
       "    </tr>\n",
       "    <tr>\n",
       "      <th>13</th>\n",
       "      <td>180 W</td>\n",
       "      <td>6.60</td>\n",
       "    </tr>\n",
       "    <tr>\n",
       "      <th>14</th>\n",
       "      <td>200 W</td>\n",
       "      <td>7.55</td>\n",
       "    </tr>\n",
       "  </tbody>\n",
       "</table>\n",
       "</div>"
      ],
      "text/plain": [
       "   Power   Etching Rate\n",
       "0   160 W          5.43\n",
       "1   180 W          6.24\n",
       "2   200 W          8.79\n",
       "3   160 W          5.71\n",
       "4   180 W          6.71\n",
       "5   200 W          9.20\n",
       "6   160 W          6.22\n",
       "7   180 W          5.98\n",
       "8   200 W          7.90\n",
       "9   160 W          6.01\n",
       "10  180 W          5.66\n",
       "11  200 W          8.15\n",
       "12  160 W          5.59\n",
       "13  180 W          6.60\n",
       "14  200 W          7.55"
      ]
     },
     "execution_count": 3,
     "metadata": {},
     "output_type": "execute_result"
    }
   ],
   "source": [
    "data = pd.read_excel('files_for_lab/anova_lab_data.xlsx')\n",
    "data"
   ]
  },
  {
   "cell_type": "code",
   "execution_count": 4,
   "id": "1fa7a7e5-67aa-447c-b39d-48fde48cb889",
   "metadata": {},
   "outputs": [
    {
     "data": {
      "text/plain": [
       "Index(['Power ', 'Etching Rate'], dtype='object')"
      ]
     },
     "execution_count": 4,
     "metadata": {},
     "output_type": "execute_result"
    }
   ],
   "source": [
    "data.columns"
   ]
  },
  {
   "cell_type": "code",
   "execution_count": 5,
   "id": "042678f3-520d-4503-b214-bd76422d10f3",
   "metadata": {},
   "outputs": [],
   "source": [
    "new_column_names = {\n",
    "    'Power ': 'power',\n",
    "    'Etching Rate': 'etching_rate'\n",
    "}"
   ]
  },
  {
   "cell_type": "code",
   "execution_count": 6,
   "id": "333f0a6c-2d4e-49a4-ac6e-7d1a8ae8a73e",
   "metadata": {},
   "outputs": [],
   "source": [
    "data.rename(columns=new_column_names, inplace=True)"
   ]
  },
  {
   "cell_type": "code",
   "execution_count": 7,
   "id": "1a1a2078-8ccd-428e-8e52-2d15aaec12f7",
   "metadata": {},
   "outputs": [
    {
     "data": {
      "text/plain": [
       "Index(['power', 'etching_rate'], dtype='object')"
      ]
     },
     "execution_count": 7,
     "metadata": {},
     "output_type": "execute_result"
    }
   ],
   "source": [
    "data.columns"
   ]
  },
  {
   "cell_type": "code",
   "execution_count": 8,
   "id": "e5f4bd8c-2e21-452a-a408-7ad35fb40b64",
   "metadata": {},
   "outputs": [
    {
     "data": {
      "text/html": [
       "<div>\n",
       "<style scoped>\n",
       "    .dataframe tbody tr th:only-of-type {\n",
       "        vertical-align: middle;\n",
       "    }\n",
       "\n",
       "    .dataframe tbody tr th {\n",
       "        vertical-align: top;\n",
       "    }\n",
       "\n",
       "    .dataframe thead th {\n",
       "        text-align: right;\n",
       "    }\n",
       "</style>\n",
       "<table border=\"1\" class=\"dataframe\">\n",
       "  <thead>\n",
       "    <tr style=\"text-align: right;\">\n",
       "      <th></th>\n",
       "      <th>power</th>\n",
       "      <th>etching_mean</th>\n",
       "      <th>samples</th>\n",
       "    </tr>\n",
       "  </thead>\n",
       "  <tbody>\n",
       "    <tr>\n",
       "      <th>0</th>\n",
       "      <td>160 W</td>\n",
       "      <td>5.792</td>\n",
       "      <td>5</td>\n",
       "    </tr>\n",
       "    <tr>\n",
       "      <th>1</th>\n",
       "      <td>180 W</td>\n",
       "      <td>6.238</td>\n",
       "      <td>5</td>\n",
       "    </tr>\n",
       "    <tr>\n",
       "      <th>2</th>\n",
       "      <td>200 W</td>\n",
       "      <td>8.318</td>\n",
       "      <td>5</td>\n",
       "    </tr>\n",
       "  </tbody>\n",
       "</table>\n",
       "</div>"
      ],
      "text/plain": [
       "   power  etching_mean  samples\n",
       "0  160 W         5.792        5\n",
       "1  180 W         6.238        5\n",
       "2  200 W         8.318        5"
      ]
     },
     "execution_count": 8,
     "metadata": {},
     "output_type": "execute_result"
    }
   ],
   "source": [
    "group_df = data.groupby('power')['etching_rate'].agg(etching_mean='mean',samples='size').reset_index()\n",
    "group_df"
   ]
  },
  {
   "cell_type": "markdown",
   "id": "2707edde-f34f-4f28-8686-000a3dd790d2",
   "metadata": {},
   "source": [
    "Formulate the Hypothesis:\n",
    "\n",
    "Null Hypothesis:\n",
    "$$H0: \\mu_{160 W}=\\mu_{180 W}=\\mu_{200 W}$$\n",
    "\n",
    "Alternative Hypothesis:\n",
    "$$H1: \\mu_{160 W} \\neq \\mu_{180 W} \\neq \\mu_{200 W}$$\n",
    "\n",
    "Level of significance: \n",
    "\n",
    "$$\\alpha=0.05$$\n",
    "\n",
    "Before conducting ANOVA, you need to check the assumptions of the analysis, which include:\n",
    "- **Independence**: The data points are independent of each other.\n",
    "- **Normality**: The data within each group should follow a normal distribution.\n",
    "- **Homogeneity of Variance**: The variances of the groups should be approximately equal."
   ]
  },
  {
   "cell_type": "code",
   "execution_count": 9,
   "id": "eeeebde5-68fa-48f9-8ce4-425a865ef491",
   "metadata": {},
   "outputs": [
    {
     "data": {
      "text/plain": [
       "0     5.43\n",
       "3     5.71\n",
       "6     6.22\n",
       "9     6.01\n",
       "12    5.59\n",
       "Name: etching_rate, dtype: float64"
      ]
     },
     "execution_count": 9,
     "metadata": {},
     "output_type": "execute_result"
    }
   ],
   "source": [
    "data[data['power'] == '160 W']['etching_rate']"
   ]
  },
  {
   "cell_type": "code",
   "execution_count": 10,
   "id": "6b946fa0-3abd-4342-9179-6942ab784611",
   "metadata": {},
   "outputs": [
    {
     "data": {
      "text/plain": [
       "F_onewayResult(statistic=36.87895470100505, pvalue=7.506584272358903e-06)"
      ]
     },
     "execution_count": 10,
     "metadata": {},
     "output_type": "execute_result"
    }
   ],
   "source": [
    "f_stat =  st.f_oneway(data[data['power'] == '160 W']['etching_rate'],data[data['power'] == '180 W']['etching_rate'],\n",
    "                  data[data['power'] == '200 W']['etching_rate'])\n",
    "f_stat"
   ]
  },
  {
   "cell_type": "code",
   "execution_count": 16,
   "id": "fae72291-f401-4d03-bc23-812192bf642c",
   "metadata": {},
   "outputs": [
    {
     "data": {
      "text/plain": [
       "False"
      ]
     },
     "execution_count": 16,
     "metadata": {},
     "output_type": "execute_result"
    }
   ],
   "source": [
    "f_stat.pvalue > 0.5"
   ]
  },
  {
   "cell_type": "markdown",
   "id": "7b71fb9d-60ac-4527-995e-fc2b49708834",
   "metadata": {},
   "source": [
    "`Pvalue` ($7.506e^{-6}$) is less than 0.05 so we reject $H_0$: ***the means of all the levels of powers are not equal.***"
   ]
  },
  {
   "cell_type": "markdown",
   "id": "4dc9bbea-84b9-4e27-bdff-7bba62b38687",
   "metadata": {},
   "source": [
    "To compare the f static against the critical value, we need to compute df1 (total dof) and df2 (dof for the model).\n",
    "\n",
    "$df_1$ = 3 - 1  \n",
    "$df_2$ = 15 - 3\n",
    "\n",
    "Now, we can check the F-table for 0.05 significance level."
   ]
  },
  {
   "cell_type": "markdown",
   "id": "db5b7ff2-fef5-40d5-90a7-f85f98d0fe8b",
   "metadata": {},
   "source": [
    "F-table of Critical Values for Significance Level = 0.05:  \n",
    "https://statisticsbyjim.com/wp-content/uploads/2022/02/F-table_Alpha05.png"
   ]
  },
  {
   "cell_type": "markdown",
   "id": "83765a25-82a9-41eb-8b9a-a6bd444cc4a3",
   "metadata": {},
   "source": [
    "`Critical Value` ($3.89$) is less than the statistic ($36.87$), so we confirm the $H_0$ rejection."
   ]
  },
  {
   "cell_type": "markdown",
   "id": "0b9e0fcb-4652-487f-a684-1d909e4fc01f",
   "metadata": {},
   "source": [
    "Another way to compute the critical value is:"
   ]
  },
  {
   "cell_type": "code",
   "execution_count": 15,
   "id": "39290d95-70fd-4e7e-adc9-b54569318fc5",
   "metadata": {},
   "outputs": [
    {
     "data": {
      "text/plain": [
       "3.8852938346523933"
      ]
     },
     "execution_count": 15,
     "metadata": {},
     "output_type": "execute_result"
    }
   ],
   "source": [
    "level_of_significance = 0.05\n",
    "df1 = 3 - 1\n",
    "df2 = len(data) - 3\n",
    "\n",
    "critical_value = st.f.ppf(1 - level_of_significance, df1, df2)\n",
    "critical_value"
   ]
  }
 ],
 "metadata": {
  "kernelspec": {
   "display_name": "Python 3 (ipykernel)",
   "language": "python",
   "name": "python3"
  },
  "language_info": {
   "codemirror_mode": {
    "name": "ipython",
    "version": 3
   },
   "file_extension": ".py",
   "mimetype": "text/x-python",
   "name": "python",
   "nbconvert_exporter": "python",
   "pygments_lexer": "ipython3",
   "version": "3.10.9"
  }
 },
 "nbformat": 4,
 "nbformat_minor": 5
}
